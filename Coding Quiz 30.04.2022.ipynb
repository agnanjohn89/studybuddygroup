{
 "cells": [
  {
   "cell_type": "markdown",
   "id": "716f219b",
   "metadata": {},
   "source": [
    "### Quiz 1\n",
    "\n",
    "Sort the list 'names' with names by last name. You can assume that all names in the list contain only a first name. The format of the names is always \"firstname lastname\".\n",
    "\n",
    "To do this, first think about how to determine the last name and then write the appropriate function to pass to the `.sort()` function.\n",
    "\n",
    "**Note:** Write a normal function first and then solve the task again with a lambda function."
   ]
  },
  {
   "cell_type": "code",
   "execution_count": null,
   "id": "de007375",
   "metadata": {},
   "outputs": [],
   "source": [
    "names = [\"Clif Delse\", \"Sebastian Klaus\", \"Anna Benn\", \"Antony Adam\", \"Tonny Coder\", \"Annmary Wortmann\", \"Willy Cordes\"]\n",
    "\n",
    "# here comes your code\n",
    "\n",
    "print(names)"
   ]
  },
  {
   "cell_type": "markdown",
   "id": "0dd8609a",
   "metadata": {},
   "source": [
    "Expected output:\n",
    "    \n",
    "```python\n",
    "['Antony Adam', 'Anna Benn', 'Tonny Coder', 'Willy Cordes', 'Clif Delse', 'Sebastian Klaus', 'Annmary Wortmann']\n",
    "```"
   ]
  },
  {
   "cell_type": "markdown",
   "id": "4ac7b2e5",
   "metadata": {},
   "source": [
    "### Quiz 2\n",
    "\n",
    "Find out how often the name \"Max\" was given as a male given name in California between 1950 and 2000 (inclusive)! Use the provided .csv - file (../data/names.csv)!"
   ]
  },
  {
   "cell_type": "code",
   "execution_count": null,
   "id": "1653af20",
   "metadata": {},
   "outputs": [],
   "source": []
  },
  {
   "cell_type": "markdown",
   "id": "cf57e6a4",
   "metadata": {},
   "source": [
    "### Quiz 3\n",
    "\n",
    "Read the ../data/names.csv file and calculate which name was the most common overall across the US. "
   ]
  },
  {
   "cell_type": "markdown",
   "id": "7ea4e2e0",
   "metadata": {},
   "source": [
    "**Tips**:\n",
    "\n",
    "- First read the data into a dictionary and count how many times each first name occurred in total.\n",
    "- Then analyze the dictionary and find out the most frequent first name.\n",
    "- Note that if you want to add 2 numbers, you may have to convert a string to a number first.\n",
    "- Write all the code that opens the file and goes through it in a cell."
   ]
  },
  {
   "cell_type": "code",
   "execution_count": null,
   "id": "4c9787f5",
   "metadata": {},
   "outputs": [],
   "source": []
  }
 ],
 "metadata": {
  "kernelspec": {
   "display_name": "Python 3",
   "language": "python",
   "name": "python3"
  },
  "language_info": {
   "codemirror_mode": {
    "name": "ipython",
    "version": 3
   },
   "file_extension": ".py",
   "mimetype": "text/x-python",
   "name": "python",
   "nbconvert_exporter": "python",
   "pygments_lexer": "ipython3",
   "version": "3.8.8"
  }
 },
 "nbformat": 4,
 "nbformat_minor": 5
}
